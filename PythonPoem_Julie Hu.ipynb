{
 "cells": [
  {
   "cell_type": "code",
   "execution_count": 25,
   "metadata": {},
   "outputs": [],
   "source": [
    "# 1) What is the output of the following code and why? \n",
    "\n",
    "# var1 = 1\n",
    "# var2 = 2\n",
    "# var3 = \"3\"\n",
    "\n",
    "# print(var1 + var2 + var3)\n",
    "\n",
    "# a) 6 \n",
    "# b) 33 \n",
    "# c) 3 + 3 \n",
    "# d) Error \n",
    "\n",
    "#the answer is b"
   ]
  },
  {
   "cell_type": "code",
   "execution_count": 26,
   "metadata": {},
   "outputs": [],
   "source": [
    "# 2) What is the output of the following code? \n",
    "\n",
    "#str = \"pynative\"\n",
    "\n",
    "#print (str[1:3])\n",
    "\n",
    "# a) py\n",
    "# b) yn\n",
    "# c) pyn\n",
    "# d) yna\n",
    "\n",
    "#the answer is b"
   ]
  },
  {
   "cell_type": "code",
   "execution_count": 27,
   "metadata": {},
   "outputs": [],
   "source": [
    "# 3) What is the output of the following code? \n",
    "\n",
    "#var= \"James Bond\"\n",
    "#print(var[2::-1])\n",
    "\n",
    "# a) Jam\n",
    "# b) dno\n",
    "# c) maJ\n",
    "# d) dnoB semaJ\n",
    "\n",
    "# The answer is c"
   ]
  },
  {
   "cell_type": "code",
   "execution_count": 28,
   "metadata": {},
   "outputs": [],
   "source": [
    "# 4) What is the output of the following code? \n",
    "\n",
    "#var = \"James\" * 2  * 3\n",
    "#print(var)\n",
    "\n",
    "# a) JamesJamesJamesJamesJamesJames\n",
    "# b) JamesJamesJamesJamesJames\n",
    "# c) Error: invalid syntax\n",
    "\n",
    "# The answer is a"
   ]
  },
  {
   "cell_type": "code",
   "execution_count": 29,
   "metadata": {},
   "outputs": [],
   "source": [
    "# 5) Get rid of the non fruit item: \n",
    "\n",
    "# sweets = ['apple', 'bananas', 'cantelopes', 'donut']\n"
   ]
  },
  {
   "cell_type": "code",
   "execution_count": 30,
   "metadata": {},
   "outputs": [
    {
     "data": {
      "text/plain": [
       "'donut'"
      ]
     },
     "execution_count": 30,
     "metadata": {},
     "output_type": "execute_result"
    }
   ],
   "source": [
    "sweets = ['apple', 'bananas', 'cantelopes', 'donut']\n",
    "sweets.pop()"
   ]
  },
  {
   "cell_type": "code",
   "execution_count": 31,
   "metadata": {},
   "outputs": [
    {
     "data": {
      "text/plain": [
       "'santa'"
      ]
     },
     "execution_count": 31,
     "metadata": {},
     "output_type": "execute_result"
    }
   ],
   "source": [
    "# 6) Find \"santa\" in the variable \"house\" \n",
    "\n",
    "\n",
    "room1=['gabe', 'greg']\n",
    "room2=['michelle','santa','stacey']\n",
    "room3=['adam','sam', 'melissa']\n",
    "house= [room2, room1, room3] \n",
    "\n",
    "house[0][1]\n"
   ]
  },
  {
   "cell_type": "code",
   "execution_count": 32,
   "metadata": {},
   "outputs": [],
   "source": [
    "# 7) A dictionary is the best way to store a sequence of events like a recipe.\n",
    "\n",
    "# True or false? \n",
    " \n",
    "#A dictionary is not the best way to store a sequence of events like a recipe, since they are used to store data values in key:value pairs. They are usually unordered.\n",
    "# I think a list is more suitable to store a sequence of events like a recipe. "
   ]
  },
  {
   "cell_type": "code",
   "execution_count": 33,
   "metadata": {},
   "outputs": [
    {
     "name": "stdout",
     "output_type": "stream",
     "text": [
      "['mary', 'bob', 'jessica', 'pierre', 'jennifer', 'chris', 'christina', 'tina', 'michelle']\n"
     ]
    }
   ],
   "source": [
    "# 8) Remove all dupes \n",
    "names = ['mary', 'bob', 'jessica', 'pierre', 'bob', 'jennifer', 'chris', 'christina', 'tina', 'mary', 'tina', 'bob', 'michelle','jennifer']\n",
    "names = list(dict.fromkeys(names))\n",
    "print(names)"
   ]
  },
  {
   "cell_type": "code",
   "execution_count": 34,
   "metadata": {},
   "outputs": [],
   "source": [
    "# 9) What's the difference between = and == ? \n",
    "\n",
    "# = is a simple assignment operator. It assigns values from the right side operands to the left side operands. == compares two objects to see if they are equal or not. "
   ]
  },
  {
   "cell_type": "code",
   "execution_count": 35,
   "metadata": {},
   "outputs": [],
   "source": [
    "# 10) \n",
    "\n",
    "# Use the concepts you learned in class to construct a poem. Please make sure you write your own poem. There are no guidelines to writing this poem but if you want, feel free to following traditional poem formats like ballads, sonnets, haikus or more.  \n",
    "\n",
    "# See below for example. I expect yours to have a bit more elegant. \n",
    "\n",
    "# Credit Poem: \"Still I Rise\" by Maya Angelou \n",
    "\n",
    "# Reference: https://www.popwebdesign.net/popart_blog/en/2018/01/code-poetry-poems-written-in-programming-languages/ \n"
   ]
  },
  {
   "cell_type": "code",
   "execution_count": 36,
   "metadata": {},
   "outputs": [
    {
     "name": "stdout",
     "output_type": "stream",
     "text": [
      "Goodbye My Love\n",
      "\n",
      "\n",
      "BY JULIE HU\n",
      "\n",
      "\n",
      "Goodbye my love\n",
      "Please don't cry for me\n",
      "\n",
      "\n",
      "You are the flowers slumbering on the spring hills\n",
      "The lighthouse guiding summer waves\n",
      "The warm apple cider by the fall shores\n",
      "The winter snow outlining the city\n",
      "When I look upon the stars\n",
      "I watch the clouds glide into the mountains\n",
      "And there you were\n",
      "A piece of stardust\n",
      "Trapped in my fingers\n",
      "Faraway\n",
      "\n",
      "\n",
      "I know I am not what you need\n",
      "So I left\n",
      "When the sun painted the ancient bricks\n",
      "Golden sparks kissed the Ivy vines\n",
      "There, I held my notes high\n",
      "Watching the dots and lines become a unspeakable poem\n",
      "Something bigger than what I can fathom\n",
      "And I realized\n",
      "You have not left\n",
      "There is no grave\n",
      "For all I have\n",
      "My soul\n",
      "My flesh\n",
      "my every being\n",
      "Became a dream of you\n",
      "\n",
      "\n",
      "So goodbye my love\n",
      "Please don't cry for me\n",
      "I am you\n",
      "And you are me\n"
     ]
    }
   ],
   "source": [
    "a = \"My Love\"\n",
    "b = \"by Julie Hu\"\n",
    "\n",
    "print (f'Goodbye {a}')\n",
    "print('\\n')\n",
    "print(b.upper())\n",
    "print('\\n')\n",
    "print('Goodbye my love')\n",
    "print('Please don\\'t cry for me')\n",
    "print('\\n')\n",
    "print('You are the flowers slumbering on the spring hills')\n",
    "print('The lighthouse guiding summer waves')\n",
    "print('The warm apple cider by the fall shores')\n",
    "print('The winter snow outlining the city')\n",
    "print('When I look upon the stars')\n",
    "print('I watch the clouds glide into the mountains')\n",
    "print('And there you were')\n",
    "print('A piece of stardust')\n",
    "print('Trapped in my fingers')\n",
    "print('Faraway')\n",
    "print('\\n')\n",
    "print('I know I am not what you need')\n",
    "print('So I left')\n",
    "print('When the sun painted the ancient bricks')\n",
    "print('Golden sparks kissed the Ivy vines')\n",
    "print('There, I held my notes high')\n",
    "print('Watching the dots and lines become a unspeakable poem')\n",
    "print('Something bigger than what I can fathom')\n",
    "print('And I realized')\n",
    "print('You have not left')\n",
    "print('There is no grave')\n",
    "print('For all I have')\n",
    "print('My soul')\n",
    "print('My flesh')\n",
    "print('my every being')\n",
    "print('Became a dream of you')\n",
    "print('\\n')\n",
    "print('So goodbye my love')\n",
    "print('Please don\\'t cry for me')\n",
    "print('I am you')\n",
    "print('And you are me')"
   ]
  }
 ],
 "metadata": {
  "kernelspec": {
   "display_name": "Python 3.8.9 64-bit",
   "language": "python",
   "name": "python3"
  },
  "language_info": {
   "codemirror_mode": {
    "name": "ipython",
    "version": 3
   },
   "file_extension": ".py",
   "mimetype": "text/x-python",
   "name": "python",
   "nbconvert_exporter": "python",
   "pygments_lexer": "ipython3",
   "version": "3.8.9"
  },
  "vscode": {
   "interpreter": {
    "hash": "31f2aee4e71d21fbe5cf8b01ff0e069b9275f58929596ceb00d14d90e3e16cd6"
   }
  }
 },
 "nbformat": 4,
 "nbformat_minor": 2
}
