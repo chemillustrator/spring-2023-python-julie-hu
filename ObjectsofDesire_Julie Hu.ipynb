{
 "cells": [
  {
   "cell_type": "code",
   "execution_count": 168,
   "metadata": {},
   "outputs": [],
   "source": [
    "#Create a class object of something that you love. Write at least 3 methods for it. Include some attributes.\n",
    "\n",
    "#Items you love can be categorical:\n",
    "\n",
    "#Food\n",
    "#Pets\n",
    "#Vehicles\n",
    "#Places\n",
    "#Activities\n",
    "#Things\n",
    "#See examples below"
   ]
  },
  {
   "cell_type": "code",
   "execution_count": 169,
   "metadata": {},
   "outputs": [],
   "source": [
    "#I wrote three classes with different things since I want the classes to run together without all of them having the same classname and cannot be ran. "
   ]
  },
  {
   "cell_type": "markdown",
   "metadata": {},
   "source": []
  },
  {
   "cell_type": "code",
   "execution_count": 170,
   "metadata": {},
   "outputs": [],
   "source": [
    "class Frog:\n",
    "    def __init__(self,color):\n",
    "        self.color = color\n",
    "\n",
    "poison_dart_frog = Frog(color='blue')\n",
    "tree_frog = Frog(color='green')\n",
    "panamanian_golden_frog = Frog(color='golden')\n",
    "bumblebee_frog = Frog(color='yellow and black')\n",
    "mossy_frog = Frog(color='green and black')"
   ]
  },
  {
   "cell_type": "code",
   "execution_count": 171,
   "metadata": {},
   "outputs": [
    {
     "data": {
      "text/plain": [
       "'blue'"
      ]
     },
     "execution_count": 171,
     "metadata": {},
     "output_type": "execute_result"
    }
   ],
   "source": [
    "poison_dart_frog.color"
   ]
  },
  {
   "cell_type": "code",
   "execution_count": 172,
   "metadata": {},
   "outputs": [
    {
     "data": {
      "text/plain": [
       "'green and black'"
      ]
     },
     "execution_count": 172,
     "metadata": {},
     "output_type": "execute_result"
    }
   ],
   "source": [
    "mossy_frog.color"
   ]
  },
  {
   "cell_type": "code",
   "execution_count": 173,
   "metadata": {},
   "outputs": [],
   "source": [
    "class Ramen:\n",
    "\n",
    "    ingredient = 'noodles'\n",
    "\n",
    "    def __init__(self, flavor, soup_ingredient):\n",
    "        self.flavor = flavor\n",
    "        self.soup_ingredient = soup_ingredient\n"
   ]
  },
  {
   "cell_type": "code",
   "execution_count": 174,
   "metadata": {},
   "outputs": [],
   "source": [
    "\n",
    "    tonkotsu_ramen = Ramen(flavor='umami', soup_ingredient='boiling pork bones')\n",
    "    miso_ramen = Ramen(flavor='strong and savory', soup_ingredient = 'miso paste')\n",
    "    shoyu_ramen = Ramen(flavor = 'salty and tangy', soup_ingredient = 'soy sauce')\n",
    "    shio_ramen = Ramen(flavor = 'light', soup_ingredient = 'chicken bones')"
   ]
  },
  {
   "cell_type": "code",
   "execution_count": 175,
   "metadata": {},
   "outputs": [
    {
     "data": {
      "text/plain": [
       "'noodles'"
      ]
     },
     "execution_count": 175,
     "metadata": {},
     "output_type": "execute_result"
    }
   ],
   "source": [
    "tonkotsu_ramen.ingredient"
   ]
  },
  {
   "cell_type": "code",
   "execution_count": 176,
   "metadata": {},
   "outputs": [
    {
     "data": {
      "text/plain": [
       "'miso paste'"
      ]
     },
     "execution_count": 176,
     "metadata": {},
     "output_type": "execute_result"
    }
   ],
   "source": [
    "miso_ramen.soup_ingredient"
   ]
  },
  {
   "cell_type": "code",
   "execution_count": 177,
   "metadata": {},
   "outputs": [],
   "source": [
    "class PersonalityIntroduction:\n",
    "\n",
    "    personality = 'MBTI'\n",
    "\n",
    "    def __init__(self, name, personality_type):\n",
    "        self.name = name\n",
    "        self.personality_type = personality_type\n",
    "    \n",
    "    def introduction(self, name, personality_type):\n",
    "        print('Hi, I am {} and my MBTI type is {}'.format(self.name, self.personality_type))\n"
   ]
  },
  {
   "cell_type": "markdown",
   "metadata": {},
   "source": []
  },
  {
   "cell_type": "code",
   "execution_count": 178,
   "metadata": {},
   "outputs": [
    {
     "name": "stdout",
     "output_type": "stream",
     "text": [
      "Hi, I am Julie and my MBTI type is ENFP\n"
     ]
    }
   ],
   "source": [
    "My_introduction.introduction('Julie', 'ENFP')"
   ]
  }
 ],
 "metadata": {
  "kernelspec": {
   "display_name": "Python 3.8.9 64-bit",
   "language": "python",
   "name": "python3"
  },
  "language_info": {
   "codemirror_mode": {
    "name": "ipython",
    "version": 3
   },
   "file_extension": ".py",
   "mimetype": "text/x-python",
   "name": "python",
   "nbconvert_exporter": "python",
   "pygments_lexer": "ipython3",
   "version": "3.8.9"
  },
  "orig_nbformat": 4,
  "vscode": {
   "interpreter": {
    "hash": "31f2aee4e71d21fbe5cf8b01ff0e069b9275f58929596ceb00d14d90e3e16cd6"
   }
  }
 },
 "nbformat": 4,
 "nbformat_minor": 2
}
